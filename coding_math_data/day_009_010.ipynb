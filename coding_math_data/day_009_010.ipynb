{
  "nbformat": 4,
  "nbformat_minor": 0,
  "metadata": {
    "colab": {
      "provenance": [],
      "authorship_tag": "ABX9TyOxS6oFw9F/z1b4Ozf7gjgw",
      "include_colab_link": true
    },
    "kernelspec": {
      "name": "python3",
      "display_name": "Python 3"
    },
    "language_info": {
      "name": "python"
    }
  },
  "cells": [
    {
      "cell_type": "markdown",
      "metadata": {
        "id": "view-in-github",
        "colab_type": "text"
      },
      "source": [
        "<a href=\"https://colab.research.google.com/github/dattnguyen1991/aio_warmup_draft/blob/main/coding_math_data/day_009_010.ipynb\" target=\"_parent\"><img src=\"https://colab.research.google.com/assets/colab-badge.svg\" alt=\"Open In Colab\"/></a>"
      ]
    },
    {
      "cell_type": "markdown",
      "source": [
        "# Day 9\n",
        "## [Question](https://www.aivnlearning.com/api/files/67a41b14dd8240aeebd652ee/Documents%2F2025-1%2FDay%209%2FWeek%202%20-%20Day%209.pdf)\n",
        "\n"
      ],
      "metadata": {
        "id": "3Qn3WcMcWiq7"
      }
    },
    {
      "cell_type": "code",
      "source": [
        "# Median\n",
        "# Câu 1: Tạo mới một List có tên là lst_data, gồm các số từ 1 đến 10.\n",
        "# Câu 2: Tính giá trị trung vị từ lst_data vừa tạo. (Không sử dụng numpy)\n",
        "# Câu 3: Lọc các giá trị số lẻ trong lst_data và lưu ra list mới có tên là: lst_odd_filter với thứ tự giảm dần ( Sử dụng phương thức reverse=True trong hàm sort/sorted).\n",
        "#\n",
        "# lst_data = []\n",
        "# # Your code here\n",
        "#\n",
        "# Output:\n",
        "# - Câu 1: [1, 2, 3, 4, 5, 6, 7, 8, 9, 10]\n",
        "# - Câu 2: Median : 5.5\n",
        "# - Câu 3: [9, 7, 5, 3, 1]\n",
        "\n",
        "def find_median(l):\n",
        "  sorted_list = sorted(l)\n",
        "  size = len(sorted_list)\n",
        "  return sorted_list[(size+1)//2] if size%2 == 1 else (sorted_list[size//2] + sorted_list[size//2-1])/2\n",
        "\n",
        "lst_data = list(range(1, 11))\n",
        "lst_odd_filter = sorted([i for i in lst_data if i%2==1], reverse=True)\n",
        "\n",
        "print(lst_data)\n",
        "print(f'Median: {find_median(lst_data)}')\n",
        "print(lst_odd_filter)\n"
      ],
      "metadata": {
        "id": "AhryWaiLR-xN",
        "outputId": "af90c276-f94f-4b87-a056-d6787d83b782",
        "colab": {
          "base_uri": "https://localhost:8080/"
        }
      },
      "execution_count": 13,
      "outputs": [
        {
          "output_type": "stream",
          "name": "stdout",
          "text": [
            "[1, 2, 3, 4, 5, 6, 7, 8, 9, 10]\n",
            "Median: 5.5\n",
            "[9, 7, 5, 3, 1]\n"
          ]
        }
      ]
    },
    {
      "cell_type": "code",
      "source": [
        "# Mean\n",
        "# • Câu 1: Tạo mới một List có tên là lst_data, gồm các số từ 1 đến 10.\n",
        "# • Câu 2: Tính giá trị trung bình cho các số lẻ và số chẵn từ lst_data vừa tạo. (Không sử dụng numpy)\n",
        "# • Câu 3: Tính giá trị trung bình và trung vị cho tất cả dữ liệu trong lst_data và cho nhận xét.\n",
        "#\n",
        "# lst_data = []\n",
        "# # Your code here\n",
        "#\n",
        "# Output:\n",
        "# - Câu 1: [1, 2, 3, 4, 5, 6, 7, 8, 9, 10]\n",
        "# - Câu 2: Mean lẻ: 5.00 - Mean chẵn: 6.00\n",
        "# - Câu 3: Mean = Median = 5.5\n",
        "\n",
        "lst_data = list(range(1, 11))\n",
        "\n",
        "odds = [x for x in lst_data if x % 2 != 0]\n",
        "evens = [x for x in lst_data if x % 2 == 0]\n",
        "\n",
        "\n",
        "print(lst_data)\n",
        "print(f'Mean lẻ: {sum(odds)/len(odds)} - Mean chẵn: {sum(evens)/len(evens)}')\n",
        "print(f'Mean all {sum(lst_data)/len(lst_data)} = Median all {find_median(lst_data)}')\n",
        "\n"
      ],
      "metadata": {
        "id": "BGoFCFMrtO6j",
        "outputId": "3a26b507-c5d3-48ae-da89-92020d349e13",
        "colab": {
          "base_uri": "https://localhost:8080/"
        }
      },
      "execution_count": 18,
      "outputs": [
        {
          "output_type": "stream",
          "name": "stdout",
          "text": [
            "[1, 2, 3, 4, 5, 6, 7, 8, 9, 10]\n",
            "Mean lẻ: 5.0 - Mean chẵn: 6.0\n",
            "Mean all 5.5 = Median all 5.5\n"
          ]
        }
      ]
    },
    {
      "cell_type": "code",
      "source": [],
      "metadata": {
        "id": "hS6faKCwuzB0"
      },
      "execution_count": null,
      "outputs": []
    }
  ]
}