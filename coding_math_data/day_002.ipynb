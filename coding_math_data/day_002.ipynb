{
  "nbformat": 4,
  "nbformat_minor": 0,
  "metadata": {
    "colab": {
      "provenance": [],
      "authorship_tag": "ABX9TyNQLUHz9nuncWrzXw180ef/",
      "include_colab_link": true
    },
    "kernelspec": {
      "name": "python3",
      "display_name": "Python 3"
    },
    "language_info": {
      "name": "python"
    }
  },
  "cells": [
    {
      "cell_type": "markdown",
      "metadata": {
        "id": "view-in-github",
        "colab_type": "text"
      },
      "source": [
        "<a href=\"https://colab.research.google.com/github/dattnguyen1991/aio_warmup_draft/blob/main/coding_math_data/day_002.ipynb\" target=\"_parent\"><img src=\"https://colab.research.google.com/assets/colab-badge.svg\" alt=\"Open In Colab\"/></a>"
      ]
    },
    {
      "cell_type": "markdown",
      "source": [
        "# Ref\n",
        "[Question Day 2](https://www.aivnlearning.com/api/files/679d9489077df05bae87deb8/Documents%2F2025-1%2FDay%202%20-%20Review%2FAIO2025%20-%20Daily%20code%20day%202.pdf)\n",
        "\n"
      ],
      "metadata": {
        "id": "3Qn3WcMcWiq7"
      }
    },
    {
      "cell_type": "markdown",
      "source": [
        "## Q 2.1"
      ],
      "metadata": {
        "id": "lDZ0-N5DXSs_"
      }
    },
    {
      "cell_type": "code",
      "execution_count": 10,
      "metadata": {
        "id": "QlWlLmzqVSve"
      },
      "outputs": [],
      "source": [
        "def compute_interest(money, period):\n",
        "  assert period > 0, \"Period must be positive\"\n",
        "  assert money > 0, \"Money must be positive\"\n",
        "\n",
        "  interest_per_day = 1 + 1/period\n",
        "\n",
        "  for _ in range(period):\n",
        "    money *= interest_per_day\n",
        "\n",
        "  return money\n",
        "\n",
        "\n",
        "assert round(compute_interest(1, 12), 3) == 2.613\n",
        "assert round(compute_interest(1, 365), 3) == 2.715\n",
        "assert round(compute_interest(1, 730), 3) == 2.716"
      ]
    },
    {
      "cell_type": "markdown",
      "source": [
        "## Q 2.2"
      ],
      "metadata": {
        "id": "VN3WdAebZ7Vd"
      }
    },
    {
      "cell_type": "code",
      "source": [
        "import math\n",
        "\n",
        "def is_prime_eratosthenes(n):\n",
        "  if n < 2: return False\n",
        "\n",
        "  prime = [True] * (n + 1)\n",
        "  prime[0] = prime[1] = False\n",
        "\n",
        "  for i in range(2, int(math.sqrt(n)) + 1):\n",
        "    if prime[i]:\n",
        "      for j in range(i * i, n + 1, i):\n",
        "        prime[j] = False\n",
        "\n",
        "  return prime[n]\n",
        "\n",
        "\n",
        "assert is_prime_eratosthenes(7) == True\n",
        "assert is_prime_eratosthenes(10) == False\n",
        "assert is_prime_eratosthenes(2) == True\n",
        "assert is_prime_eratosthenes(1) == False"
      ],
      "metadata": {
        "id": "4NbjLem6Z9tI",
        "colab": {
          "base_uri": "https://localhost:8080/"
        },
        "outputId": "c6430039-1fb5-4a7a-a60b-77d91307790a"
      },
      "execution_count": 14,
      "outputs": [
        {
          "output_type": "stream",
          "name": "stdout",
          "text": [
            "False\n"
          ]
        }
      ]
    }
  ]
}