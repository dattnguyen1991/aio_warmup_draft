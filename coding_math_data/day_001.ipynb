{
  "nbformat": 4,
  "nbformat_minor": 0,
  "metadata": {
    "colab": {
      "provenance": [],
      "authorship_tag": "ABX9TyObUmfnyDgUywQsdtMnLXuX",
      "include_colab_link": true
    },
    "kernelspec": {
      "name": "python3",
      "display_name": "Python 3"
    },
    "language_info": {
      "name": "python"
    }
  },
  "cells": [
    {
      "cell_type": "markdown",
      "metadata": {
        "id": "view-in-github",
        "colab_type": "text"
      },
      "source": [
        "<a href=\"https://colab.research.google.com/github/dattnguyen1991/aio_warmup_draft/blob/main/coding_math_data/day_001.ipynb\" target=\"_parent\"><img src=\"https://colab.research.google.com/assets/colab-badge.svg\" alt=\"Open In Colab\"/></a>"
      ]
    },
    {
      "cell_type": "markdown",
      "source": [
        "# Ref\n",
        "[Question Day 1](https://www.aivnlearning.com/api/files/679d8fed077df05bae87deb3/Documents%2F2025-1%2FDay%201%2FAIO2025%20-%20Daily%20code%20day%201.pdf)\n",
        "\n"
      ],
      "metadata": {
        "id": "3Qn3WcMcWiq7"
      }
    },
    {
      "cell_type": "markdown",
      "source": [
        "## Q 2.1"
      ],
      "metadata": {
        "id": "lDZ0-N5DXSs_"
      }
    },
    {
      "cell_type": "code",
      "execution_count": 3,
      "metadata": {
        "id": "QlWlLmzqVSve"
      },
      "outputs": [],
      "source": [
        "can_list = [\"Canh\", \"Tân\", \"Nhâm\", \"Quý\", \"Giáp\", \"Ất\", \"Bính\", \"Đinh\", \"Mậu\", \"Kỷ\"]\n",
        "chi_list = [\"Thân\", \"Dậu\", \"Tuất\", \"Hợi\", \"Tý\", \"Sửu\", \"Dần\", \"Mão\", \"Thìn\", \"Tỵ\", \"Ngọ\", \"Mùi\"]\n",
        "\n",
        "\n",
        "def calculate_can_chi_calendar ( year ) :\n",
        "  return f\"{can_list[year%10]} {chi_list[year%12]}\"\n",
        "\n",
        "assert calculate_can_chi_calendar(2025) == \"Ất Tỵ\"\n",
        "assert calculate_can_chi_calendar(2024) == \"Giáp Thìn\"\n",
        "assert calculate_can_chi_calendar(1997) == \"Đinh Sửu\""
      ]
    },
    {
      "cell_type": "markdown",
      "source": [
        "## Q 2.2"
      ],
      "metadata": {
        "id": "VN3WdAebZ7Vd"
      }
    },
    {
      "cell_type": "code",
      "source": [
        "def relu(x):\n",
        "  return max(0, x)\n",
        "\n",
        "assert relu(3) == 3\n",
        "assert relu(-2) == 0\n",
        "assert relu(0) == 0\n"
      ],
      "metadata": {
        "id": "4NbjLem6Z9tI"
      },
      "execution_count": 4,
      "outputs": []
    },
    {
      "cell_type": "code",
      "source": [
        "def leaky_relu(x, alpha=0.01):\n",
        "  return x if x > 0 else alpha*x\n",
        "\n",
        "assert leaky_relu(3) == 3\n",
        "assert leaky_relu(-2) == -0.02\n",
        "assert leaky_relu(0) == 0\n"
      ],
      "metadata": {
        "id": "5lNRbeCIZ89d"
      },
      "execution_count": 6,
      "outputs": []
    },
    {
      "cell_type": "code",
      "source": [
        "import math\n",
        "\n",
        "def sigmoid(x):\n",
        "  return 1/(1 + math.e**(-x))\n",
        "\n",
        "\n",
        "assert round(sigmoid(0), 4) == 0.5\n",
        "assert round(sigmoid(2), 4) == 0.8808\n",
        "assert round(sigmoid(-2), 4) == 0.1192\n"
      ],
      "metadata": {
        "id": "iNSbV3qDax-q"
      },
      "execution_count": 12,
      "outputs": []
    },
    {
      "cell_type": "code",
      "source": [
        "def tanh(x):\n",
        "  return (math.e**x - math.e**(-x))/(math.e**x + math.e**(-x))\n",
        "\n",
        "assert round(tanh(0), 4) == 0.0\n",
        "assert round(tanh(2), 4) == 0.964\n",
        "assert round(tanh(150), 4) == 1\n",
        "\n"
      ],
      "metadata": {
        "id": "MWWmtaALbtUd"
      },
      "execution_count": 13,
      "outputs": []
    },
    {
      "cell_type": "code",
      "source": [
        "def elu(x, alpha=1.0):\n",
        "  return x if x > 0 else alpha*(math.e**x - 1)\n",
        "\n",
        "assert round(elu(3), 4) == 3\n",
        "assert round(elu(-1), 4) == -0.6321\n",
        "assert round(elu(0), 4) == 0\n"
      ],
      "metadata": {
        "id": "nLAG2KeecC9w"
      },
      "execution_count": 16,
      "outputs": []
    }
  ]
}