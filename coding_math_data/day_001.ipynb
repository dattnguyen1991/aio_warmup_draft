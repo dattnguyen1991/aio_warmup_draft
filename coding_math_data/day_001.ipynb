{
  "nbformat": 4,
  "nbformat_minor": 0,
  "metadata": {
    "colab": {
      "provenance": [],
      "authorship_tag": "ABX9TyOZMHuB/FTvW3dnU3JQ3TiE",
      "include_colab_link": true
    },
    "kernelspec": {
      "name": "python3",
      "display_name": "Python 3"
    },
    "language_info": {
      "name": "python"
    }
  },
  "cells": [
    {
      "cell_type": "markdown",
      "metadata": {
        "id": "view-in-github",
        "colab_type": "text"
      },
      "source": [
        "<a href=\"https://colab.research.google.com/github/dattnguyen1991/aio_warmup_draft/blob/main/coding_math_data/day_001.ipynb\" target=\"_parent\"><img src=\"https://colab.research.google.com/assets/colab-badge.svg\" alt=\"Open In Colab\"/></a>"
      ]
    },
    {
      "cell_type": "markdown",
      "source": [
        "# Ref\n",
        "[Question Day 1](https://www.aivnlearning.com/api/files/679d8fed077df05bae87deb3/Documents%2F2025-1%2FDay%201%2FAIO2025%20-%20Daily%20code%20day%201.pdf)\n",
        "\n"
      ],
      "metadata": {
        "id": "3Qn3WcMcWiq7"
      }
    },
    {
      "cell_type": "markdown",
      "source": [
        "## Q 2.1"
      ],
      "metadata": {
        "id": "lDZ0-N5DXSs_"
      }
    },
    {
      "cell_type": "code",
      "execution_count": 3,
      "metadata": {
        "id": "QlWlLmzqVSve"
      },
      "outputs": [],
      "source": [
        "can_list = [\"Canh\", \"Tân\", \"Nhâm\", \"Quý\", \"Giáp\", \"Ất\", \"Bính\", \"Đinh\", \"Mậu\", \"Kỷ\"]\n",
        "chi_list = [\"Thân\", \"Dậu\", \"Tuất\", \"Hợi\", \"Tý\", \"Sửu\", \"Dần\", \"Mão\", \"Thìn\", \"Tỵ\", \"Ngọ\", \"Mùi\"]\n",
        "\n",
        "\n",
        "def calculate_can_chi_calendar ( year ) :\n",
        "  return f\"{can_list[year%10]} {chi_list[year%12]}\"\n",
        "\n",
        "assert calculate_can_chi_calendar(2025) == \"Ất Tỵ\"\n",
        "assert calculate_can_chi_calendar(2024) == \"Giáp Thìn\"\n",
        "assert calculate_can_chi_calendar(1997) == \"Đinh Sửu\""
      ]
    },
    {
      "cell_type": "markdown",
      "source": [
        "## Q 2.2"
      ],
      "metadata": {
        "id": "VN3WdAebZ7Vd"
      }
    },
    {
      "cell_type": "code",
      "source": [
        "def relu(x):\n",
        "  return max(0, x)\n",
        "\n",
        "assert relu(3) == 3\n",
        "assert relu(-2) == 0\n",
        "assert relu(0) == 0\n"
      ],
      "metadata": {
        "id": "4NbjLem6Z9tI"
      },
      "execution_count": 4,
      "outputs": []
    },
    {
      "cell_type": "code",
      "source": [],
      "metadata": {
        "id": "5lNRbeCIZ89d"
      },
      "execution_count": null,
      "outputs": []
    }
  ]
}