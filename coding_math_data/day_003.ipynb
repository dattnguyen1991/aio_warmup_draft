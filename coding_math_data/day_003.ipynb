{
  "nbformat": 4,
  "nbformat_minor": 0,
  "metadata": {
    "colab": {
      "provenance": [],
      "authorship_tag": "ABX9TyPBZLHEvmiLnSgPrwD/pHsd",
      "include_colab_link": true
    },
    "kernelspec": {
      "name": "python3",
      "display_name": "Python 3"
    },
    "language_info": {
      "name": "python"
    }
  },
  "cells": [
    {
      "cell_type": "markdown",
      "metadata": {
        "id": "view-in-github",
        "colab_type": "text"
      },
      "source": [
        "<a href=\"https://colab.research.google.com/github/dattnguyen1991/aio_warmup_draft/blob/main/coding_math_data/day_003.ipynb\" target=\"_parent\"><img src=\"https://colab.research.google.com/assets/colab-badge.svg\" alt=\"Open In Colab\"/></a>"
      ]
    },
    {
      "cell_type": "markdown",
      "source": [
        "# Ref\n",
        "[Question Day 3](https://www.aivnlearning.com/api/files/679d955c077df05bae87deba/Documents%2F2025-1%2FDay%203%20-%20Review%2FAIO2025%20-%20Daily%20code%20day%203.pdf)\n",
        "\n"
      ],
      "metadata": {
        "id": "3Qn3WcMcWiq7"
      }
    },
    {
      "cell_type": "markdown",
      "source": [
        "## Q 2.1"
      ],
      "metadata": {
        "id": "lDZ0-N5DXSs_"
      }
    },
    {
      "cell_type": "code",
      "execution_count": 1,
      "metadata": {
        "id": "QlWlLmzqVSve"
      },
      "outputs": [],
      "source": [
        "import random\n",
        "\n",
        "\n",
        "def random_number_with_condition(total) :\n",
        "  # Set a random value that is the same between devices\n",
        "  random.seed(0)\n",
        "\n",
        "  number_generator = lambda: random.randint(1, 20)\n",
        "  max_iter = 1_000_000\n",
        "  iter = 1\n",
        "\n",
        "  while True:\n",
        "    if iter > max_iter: raise Exception(\"Exceeded maximum iterations\")\n",
        "\n",
        "    sum = number_generator() + number_generator()\n",
        "    if sum == total: return iter\n",
        "    iter +=1\n",
        "\n",
        "assert random_number_with_condition(40) == 266\n",
        "assert random_number_with_condition(20) == 32\n",
        "assert random_number_with_condition(35) == 96\n",
        "\n"
      ]
    },
    {
      "cell_type": "code",
      "source": [],
      "metadata": {
        "id": "eRDbkzSwp9_O"
      },
      "execution_count": null,
      "outputs": []
    }
  ]
}