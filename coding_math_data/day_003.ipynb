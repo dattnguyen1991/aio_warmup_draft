{
  "nbformat": 4,
  "nbformat_minor": 0,
  "metadata": {
    "colab": {
      "provenance": [],
      "authorship_tag": "ABX9TyNBXLqOCCGefGaBgfDWNybu",
      "include_colab_link": true
    },
    "kernelspec": {
      "name": "python3",
      "display_name": "Python 3"
    },
    "language_info": {
      "name": "python"
    }
  },
  "cells": [
    {
      "cell_type": "markdown",
      "metadata": {
        "id": "view-in-github",
        "colab_type": "text"
      },
      "source": [
        "<a href=\"https://colab.research.google.com/github/dattnguyen1991/aio_warmup_draft/blob/main/coding_math_data/day_003.ipynb\" target=\"_parent\"><img src=\"https://colab.research.google.com/assets/colab-badge.svg\" alt=\"Open In Colab\"/></a>"
      ]
    },
    {
      "cell_type": "markdown",
      "source": [
        "# Ref\n",
        "[Question Day 3](https://www.aivnlearning.com/api/files/679d955c077df05bae87deba/Documents%2F2025-1%2FDay%203%20-%20Review%2FAIO2025%20-%20Daily%20code%20day%203.pdf)\n",
        "\n"
      ],
      "metadata": {
        "id": "3Qn3WcMcWiq7"
      }
    },
    {
      "cell_type": "markdown",
      "source": [
        "## Q 2.1"
      ],
      "metadata": {
        "id": "lDZ0-N5DXSs_"
      }
    },
    {
      "cell_type": "code",
      "execution_count": 1,
      "metadata": {
        "id": "QlWlLmzqVSve",
        "outputId": "4b92ce4e-48f5-4fa5-890a-37b91572ad03",
        "colab": {
          "base_uri": "https://localhost:8080/",
          "height": 251
        }
      },
      "outputs": [
        {
          "output_type": "error",
          "ename": "AssertionError",
          "evalue": "",
          "traceback": [
            "\u001b[0;31m---------------------------------------------------------------------------\u001b[0m",
            "\u001b[0;31mAssertionError\u001b[0m                            Traceback (most recent call last)",
            "\u001b[0;32m<ipython-input-1-6c716fbfcb60>\u001b[0m in \u001b[0;36m<cell line: 0>\u001b[0;34m()\u001b[0m\n\u001b[1;32m      7\u001b[0m \u001b[0;34m\u001b[0m\u001b[0m\n\u001b[1;32m      8\u001b[0m \u001b[0;34m\u001b[0m\u001b[0m\n\u001b[0;32m----> 9\u001b[0;31m \u001b[0;32massert\u001b[0m \u001b[0mrandom_number_with_condition\u001b[0m\u001b[0;34m(\u001b[0m\u001b[0;36m40\u001b[0m\u001b[0;34m)\u001b[0m \u001b[0;34m==\u001b[0m \u001b[0;36m266\u001b[0m\u001b[0;34m\u001b[0m\u001b[0;34m\u001b[0m\u001b[0m\n\u001b[0m\u001b[1;32m     10\u001b[0m \u001b[0;32massert\u001b[0m \u001b[0mrandom_number_with_condition\u001b[0m\u001b[0;34m(\u001b[0m\u001b[0;36m20\u001b[0m\u001b[0;34m)\u001b[0m \u001b[0;34m==\u001b[0m \u001b[0;36m32\u001b[0m\u001b[0;34m\u001b[0m\u001b[0;34m\u001b[0m\u001b[0m\n\u001b[1;32m     11\u001b[0m \u001b[0;32massert\u001b[0m \u001b[0mrandom_number_with_condition\u001b[0m\u001b[0;34m(\u001b[0m\u001b[0;36m35\u001b[0m\u001b[0;34m)\u001b[0m \u001b[0;34m==\u001b[0m \u001b[0;36m96\u001b[0m\u001b[0;34m\u001b[0m\u001b[0;34m\u001b[0m\u001b[0m\n",
            "\u001b[0;31mAssertionError\u001b[0m: "
          ]
        }
      ],
      "source": [
        "import random\n",
        "\n",
        "# Set a random value that is the same between devices\n",
        "random.seed(0)\n",
        "\n",
        "def random_number_with_condition(\n",
        "    total, num_generator = lambda: random.randint(1, 20)\n",
        ") :\n",
        "\n",
        "  max_iter = 1_000_000\n",
        "  iter = 1\n",
        "  while True:\n",
        "    sum = num_generator() + num_generator()\n",
        "\n",
        "    if sum == total: return iter\n",
        "    if iter > max_iter: raise Exception(\"Exceeded maximum iterations\")\n",
        "    iter +=1\n",
        "\n",
        "assert random_number_with_condition(40) == 266\n",
        "assert random_number_with_condition(20) == 32\n",
        "assert random_number_with_condition(35) == 96\n",
        "\n"
      ]
    }
  ]
}