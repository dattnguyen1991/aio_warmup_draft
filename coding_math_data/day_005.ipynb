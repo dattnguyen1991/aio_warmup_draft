{
  "nbformat": 4,
  "nbformat_minor": 0,
  "metadata": {
    "colab": {
      "provenance": [],
      "authorship_tag": "ABX9TyOrh876ag1DEXo9ehGCM/xD",
      "include_colab_link": true
    },
    "kernelspec": {
      "name": "python3",
      "display_name": "Python 3"
    },
    "language_info": {
      "name": "python"
    }
  },
  "cells": [
    {
      "cell_type": "markdown",
      "metadata": {
        "id": "view-in-github",
        "colab_type": "text"
      },
      "source": [
        "<a href=\"https://colab.research.google.com/github/dattnguyen1991/aio_warmup_draft/blob/main/coding_math_data/day_005.ipynb\" target=\"_parent\"><img src=\"https://colab.research.google.com/assets/colab-badge.svg\" alt=\"Open In Colab\"/></a>"
      ]
    },
    {
      "cell_type": "markdown",
      "source": [
        "# Ref\n",
        "[Question Day 5](https://www.aivnlearning.com/api/files/679d9a20077df05bae87debe/Documents%2F2025-1%2FDay%205%20-%20Review%2FAIO2025%20-%20Daily%20code%20day%205.pdf)\n",
        "\n"
      ],
      "metadata": {
        "id": "3Qn3WcMcWiq7"
      }
    },
    {
      "cell_type": "markdown",
      "source": [
        "## Q 2.1"
      ],
      "metadata": {
        "id": "lDZ0-N5DXSs_"
      }
    },
    {
      "cell_type": "code",
      "execution_count": 13,
      "metadata": {
        "id": "QlWlLmzqVSve"
      },
      "outputs": [],
      "source": [
        "import math\n",
        "\n",
        "def find_squared_root(a) :\n",
        "  \"\"\" Find the squared root of number a \"\"\"\n",
        "  EPSILON = 0.000001\n",
        "\n",
        "  assert a >= 0, \"Negative number is not supported\"\n",
        "  x = a\n",
        "  n = 0\n",
        "\n",
        "  # Finding squared root x of a  => x^2 = a\n",
        "  # Meaning find the solutions of function f(x)\n",
        "  # f(x) = x^2 - a = 0\n",
        "  # f'(x) = 2x\n",
        "  f_x = lambda x: x**2 - a\n",
        "  derevative_f_x = lambda x: 2*x\n",
        "\n",
        "  x_next = 0\n",
        "  while True :\n",
        "    x_next = x - f_x(x)/derevative_f_x(x)\n",
        "    if abs(x_next - x) < EPSILON:\n",
        "      break\n",
        "\n",
        "    x = x_next\n",
        "\n",
        "  return x\n",
        "\n",
        "def round_16(a) :\n",
        "  \"\"\" Round a to 16 decimal places \"\"\"\n",
        "  return round(a, 16)\n",
        "\n",
        "\n",
        "# Seems like EPSILON = 0.001 from the Question is not able to produce correct number with 16 digits precision\n",
        "# Using EPSILON = 0.000001 to assert here.\n",
        "assert round_16(find_squared_root(2)) == round_16(1.4142135623746899)\n",
        "assert round_16(find_squared_root(3)) == round_16(1.7320508100147276)"
      ]
    }
  ]
}