{
  "nbformat": 4,
  "nbformat_minor": 0,
  "metadata": {
    "colab": {
      "provenance": [],
      "authorship_tag": "ABX9TyOn1u7phcpvpBV4R3y2C2Qm",
      "include_colab_link": true
    },
    "kernelspec": {
      "name": "python3",
      "display_name": "Python 3"
    },
    "language_info": {
      "name": "python"
    }
  },
  "cells": [
    {
      "cell_type": "markdown",
      "metadata": {
        "id": "view-in-github",
        "colab_type": "text"
      },
      "source": [
        "<a href=\"https://colab.research.google.com/github/dattnguyen1991/aio_warmup_draft/blob/main/coding_math_data/day_004.ipynb\" target=\"_parent\"><img src=\"https://colab.research.google.com/assets/colab-badge.svg\" alt=\"Open In Colab\"/></a>"
      ]
    },
    {
      "cell_type": "markdown",
      "source": [
        "# Ref\n",
        "[Question Day 4](https://www.aivnlearning.com/api/files/679d9903077df05bae87debc/Documents%2F2025-1%2FDay%204%3A%20Review%2FAIO2025%20-%20Daily%20code%20day%204.pdf)\n",
        "\n"
      ],
      "metadata": {
        "id": "3Qn3WcMcWiq7"
      }
    },
    {
      "cell_type": "code",
      "source": [],
      "metadata": {
        "id": "zjcI_KjboWo2"
      },
      "execution_count": null,
      "outputs": []
    },
    {
      "cell_type": "markdown",
      "source": [
        "## Q 2.1"
      ],
      "metadata": {
        "id": "lDZ0-N5DXSs_"
      }
    },
    {
      "cell_type": "code",
      "execution_count": 2,
      "metadata": {
        "id": "QlWlLmzqVSve"
      },
      "outputs": [],
      "source": [
        "import random\n",
        "\n",
        "def find_divisible_number(a) :\n",
        "  \"\"\"\n",
        "  Find the smallest integer that is greater than 100 and divisible\n",
        "  by the interger a\n",
        "  \"\"\"\n",
        "  num = 101\n",
        "  while num % a != 0: num+=1\n",
        "\n",
        "  return num\n",
        "\n",
        "assert find_divisible_number(5) == 105\n",
        "assert find_divisible_number(17) == 102"
      ]
    }
  ]
}