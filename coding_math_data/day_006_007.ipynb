{
  "nbformat": 4,
  "nbformat_minor": 0,
  "metadata": {
    "colab": {
      "provenance": [],
      "authorship_tag": "ABX9TyNOBrvHZECykonCw7p/iuTD",
      "include_colab_link": true
    },
    "kernelspec": {
      "name": "python3",
      "display_name": "Python 3"
    },
    "language_info": {
      "name": "python"
    }
  },
  "cells": [
    {
      "cell_type": "markdown",
      "metadata": {
        "id": "view-in-github",
        "colab_type": "text"
      },
      "source": [
        "<a href=\"https://colab.research.google.com/github/dattnguyen1991/aio_warmup_draft/blob/main/coding_math_data/day_006_007.ipynb\" target=\"_parent\"><img src=\"https://colab.research.google.com/assets/colab-badge.svg\" alt=\"Open In Colab\"/></a>"
      ]
    },
    {
      "cell_type": "markdown",
      "source": [
        "# Day 6\n",
        "## [Question](https://www.aivnlearning.com/api/files/679dcacd077df05bae87decb/Documents%2F2025-1%2FDay%206%20-%20Review%2FAIO2025%20-%20Daily%20code%20day%206.pdf)\n",
        "\n"
      ],
      "metadata": {
        "id": "3Qn3WcMcWiq7"
      }
    },
    {
      "cell_type": "code",
      "execution_count": 16,
      "metadata": {
        "id": "QlWlLmzqVSve",
        "outputId": "e542b5ea-8d40-48a1-80a7-5b1e55e18383",
        "colab": {
          "base_uri": "https://localhost:8080/"
        }
      },
      "outputs": [
        {
          "output_type": "stream",
          "name": "stdout",
          "text": [
            "1, 2, 3, 4, 5\n",
            "1, 3, 5, 7, 9\n",
            "1, 3, 5, 7, 9, \n",
            "55\n",
            "55\n"
          ]
        }
      ],
      "source": [
        "\n",
        "# Câu 1: Tạo mới 1 List gồm các số từ 1 đến 10.\n",
        "# 1.1\n",
        "lst_data_1 = list(range(1,11))\n",
        "lst_data_2 = [i for i in range(1,11)]\n",
        "\n",
        "# 1.2\n",
        "lst_data = [1,2,3,4,5,6,7,8,9,10]\n",
        "\n",
        "assert lst_data_1 == lst_data_2 == lst_data\n",
        "\n",
        "# • Câu 2: In ra kết quả 5 phần tử đầu tiên có trong List trên\n",
        "print(*lst_data[:5], sep=', ')\n",
        "\n",
        "# • Câu 3: In ra kết quả phần tử có giá trị không chia hết cho 2 (dùng kết hợp với vòng lặp for)\n",
        "## 3.1\n",
        "print(*[e for e in lst_data if e%2!=0], sep=', ')\n",
        "\n",
        "## 3.2:\n",
        "for e in lst_data:\n",
        "  if e%2!=0:\n",
        "    print(e , end=\", \")  # use end here to keep printing in current line\n",
        "print()\n",
        "\n",
        "# • Câu 4: In ra kết quả tổng các giá trị trong list (dùng kết hợp với vòng lặp for)\n",
        "## 4.1\n",
        "print(sum(lst_data))\n",
        "\n",
        "## 4.2:\n",
        "sum_data = 0\n",
        "for e in lst_data:\n",
        "  sum_data += e\n",
        "print(sum_data)\n"
      ]
    },
    {
      "cell_type": "markdown",
      "source": [
        "# Day 7\n",
        "## [Question](https://www.aivnlearning.com/api/files/679dcb11077df05bae87decd/Documents%2F2025-1%2FDay%207%20-%20Review%2FAIO2025%20-%20Daily%20code%20day%207.pdf)\n",
        "\n"
      ],
      "metadata": {
        "id": "tY86uV-1KwHh"
      }
    },
    {
      "cell_type": "code",
      "source": [
        "# • Câu 1: Tạo mới một List có tên là lst_data, gồm các số chẵn từ 1 đến 12.\n",
        "## 1.1 List comprehension:\n",
        "lst_data = [i for i in range(1,13) if i%2==0]\n",
        "\n",
        "## 1.2 With filter and wrap with list func\n",
        "lst_data_1 = filter(lambda x: x%2==0, range(1,13))  # filter object (iterator) - better for memory usage\n",
        "lst_data_1 = list(lst_data) # Load all into memory for the sake of this question.\n",
        "\n",
        "assert lst_data_1 == lst_data == [2, 4, 6, 8, 10, 12]\n",
        "\n",
        "\n",
        "# • Câu 2: Xóa tất cả các số chia hết cho 3 trong lst_data vừa tạo\n",
        "## 2.1 Use list remove. Need to take care of indexing\n",
        "for i in range(len(lst_data) - 1, -1, -1): # iterate in reverse manner\n",
        "  if lst_data[i]%3 == 0:\n",
        "    lst_data.remove(lst_data[i])\n",
        "\n",
        "## 2.2 List comprehension\n",
        "lst_data_2_2 = [i for i in lst_data_1 if i%3!=0]\n",
        "\n",
        "## 2.3 Filter\n",
        "lst_data_2_3 = list(filter(lambda x: x%3!=0, lst_data_1))\n",
        "\n",
        "print(lst_data_2_2, lst_data_2_3, lst_data)\n",
        "assert lst_data_2_2 == lst_data_2_3 == lst_data == [2, 4, 8, 10]\n",
        "\n",
        "# • Câu 3: Thêm vào cuối lst_data các số từ 1 đến 3, và thêm vào vị trí index = 3  một chuỗi các số từ 6 đến 8\n",
        "lst_data.extend(range(1,4))\n",
        "lst_data_2_2.extend(range(1,4))\n",
        "\n",
        "# 3.1 Insert reversed items\n",
        "items_to_insert = list(range(6,9))\n",
        "index_to_insert = 3\n",
        "for i in reversed(items_to_insert):\n",
        "  lst_data.insert(index_to_insert, i)\n",
        "\n",
        "\n",
        "## 3.2 Empty slicing at index\n",
        "lst_data_2_2[index_to_insert:index_to_insert] = items_to_insert\n",
        "assert lst_data_2_2 == lst_data ==  [2, 4, 8, 6, 7, 8, 10, 1, 2, 3]\n",
        "\n",
        "\n",
        "# • Câu 4: Nếu các số trong list lst_data chia hết cho 2 hoặc chia hết cho 5 thì cập nhật thành số 0\n",
        "lst_data = [0 if i%2==0 or i%5 ==0 else i for i in lst_data]\n",
        "assert lst_data == [0, 0, 0, 0, 7, 0, 0, 1, 0, 3]"
      ],
      "metadata": {
        "id": "pNHF3EwwKyev",
        "outputId": "30df9ef9-4f52-4043-fcf1-5419a24177c9",
        "colab": {
          "base_uri": "https://localhost:8080/"
        }
      },
      "execution_count": 46,
      "outputs": [
        {
          "output_type": "stream",
          "name": "stdout",
          "text": [
            "[2, 4, 8, 10] [2, 4, 8, 10] [2, 4, 8, 10]\n"
          ]
        }
      ]
    }
  ]
}